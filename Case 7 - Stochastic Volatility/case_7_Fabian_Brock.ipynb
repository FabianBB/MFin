{
 "cells": [
  {
   "cell_type": "markdown",
   "source": [
    "Fabian Brock\n",
    "Case 7\n",
    "i6248959\n",
    "Happy Holidays!"
   ],
   "metadata": {
    "collapsed": false
   },
   "id": "5a0808a8d7a6c6f3"
  },
  {
   "cell_type": "code",
   "execution_count": 85,
   "outputs": [],
   "source": [
    "import numpy as np\n",
    "import matplotlib.pyplot as plt\n",
    "import scipy.integrate\n",
    "import pandas as pd"
   ],
   "metadata": {
    "collapsed": false,
    "ExecuteTime": {
     "end_time": "2023-12-13T18:26:29.310503900Z",
     "start_time": "2023-12-13T18:26:29.251463100Z"
    }
   },
   "id": "f0602483e020e343"
  },
  {
   "cell_type": "markdown",
   "source": [
    "# Option pricing with the Heston Model\n",
    "Consider the Heston model for equity options with stochastic volatility:\n",
    "$x_t = ln S_t$,\n",
    "$dx_t = (r - \\frac{1}{2} V_t) dt + \\sqrt{V_t} dW_t^S$,\n",
    "$dV_t = \\lambda (\\theta - V_t)dt + \\sigma_v \\sqrt{V_t} dW_t^V$,\n",
    "$dW_t^S dW_t^V = \\rho dt$,\n",
    "with parameter values:\n",
    "$r=0.02$, $\\theta=(0.1)^2$, $\\lambda=2$, , $\\sigma_v=0.10$, $\\rho=-0.5$, $s_0=ln(100)$, $V_0=(0.1)^2$."
   ],
   "metadata": {
    "collapsed": false
   },
   "id": "2bc248c9c00fb3b9"
  },
  {
   "cell_type": "code",
   "execution_count": 86,
   "outputs": [],
   "source": [
    "r = 0.02\n",
    "theta = (0.1)**2\n",
    "lambda_ = 2 # _ because lambda is a keyword :(\n",
    "sigma_V = 0.10\n",
    "rho = -0.5\n",
    "S0 = np.log(100)\n",
    "V0 = (0.1)**2\n",
    "T = 10  # maturity in years\n",
    "\n",
    "# Monte Carlo simulation parameters\n",
    "N = 100 # number of time steps (daily steps for 10 years)\n",
    "dt = T / N  # time step\n",
    "M = 100000  # number of simulated paths\n",
    "K = 10  # strike price (example)\n",
    "np.random.seed(42)  "
   ],
   "metadata": {
    "collapsed": false,
    "ExecuteTime": {
     "end_time": "2023-12-13T18:26:29.348365900Z",
     "start_time": "2023-12-13T18:26:29.266422800Z"
    }
   },
   "id": "e97422e808605fcd"
  },
  {
   "cell_type": "code",
   "execution_count": 87,
   "outputs": [],
   "source": [
    "def heston_call_option_price(K, N, M, r=0.02, theta=(0.1)**2, lambda_=2, sigma_V=0.10, rho=-0.5, S0=np.log(100), V0=(0.1)**2, T=10):\n",
    "    dt = T / N\n",
    "    \n",
    "    S_paths = np.zeros((M, N + 1))\n",
    "    V_paths = np.zeros((M, N + 1))\n",
    "    \n",
    "    S_paths[:, 0] = S0\n",
    "    V_paths[:, 0] = V0\n",
    "\n",
    "    # paths\n",
    "    for i in range(1, N + 1):\n",
    "        Z_S = np.random.normal(size=M)\n",
    "        Z_V = rho * Z_S + np.sqrt(1 - rho**2) * np.random.normal(size=M)\n",
    "\n",
    "\n",
    "        V_paths[:, i] = V_paths[:, i - 1] + lambda_ * (theta - V_paths[:, i - 1]) * dt + sigma_V * np.sqrt(np.maximum(V_paths[:, i - 1], 0)) * np.sqrt(dt) * Z_V\n",
    "        \n",
    "        S_paths[:, i] = S_paths[:, i - 1] + (r - 0.5 * V_paths[:, i - 1]) * dt + np.sqrt(np.maximum(V_paths[:, i - 1], 0)) * np.sqrt(dt) * Z_S\n",
    "\n",
    "    # call payoff\n",
    "    payoffs = np.maximum(np.exp(S_paths[:, -1]) - K, 0)\n",
    "\n",
    "    # avg discounted payoff\n",
    "    option_price = np.exp(-r * T) * np.mean(payoffs)\n",
    "    # stderr\n",
    "    stderr = np.std(np.exp(-r * T) * payoffs) / np.sqrt(M)\n",
    "    \n",
    "    return option_price, stderr"
   ],
   "metadata": {
    "collapsed": false,
    "ExecuteTime": {
     "end_time": "2023-12-13T18:26:29.419173Z",
     "start_time": "2023-12-13T18:26:29.277395500Z"
    }
   },
   "id": "89fcc1b20511957d"
  },
  {
   "cell_type": "code",
   "execution_count": 88,
   "outputs": [
    {
     "name": "stdout",
     "output_type": "stream",
     "text": [
      "Price: 26.9694 with SE: 0.1245\n"
     ]
    }
   ],
   "source": [
    "# test for K=100\n",
    "price, stderr = heston_call_option_price(100, N=10, M=100000)\n",
    "print(f\"Price: {price:.4f} with SE: {stderr:.4f}\")\n"
   ],
   "metadata": {
    "collapsed": false,
    "ExecuteTime": {
     "end_time": "2023-12-13T18:26:29.492886600Z",
     "start_time": "2023-12-13T18:26:29.291519100Z"
    }
   },
   "id": "68760c0e746cbc67"
  },
  {
   "cell_type": "code",
   "execution_count": 89,
   "outputs": [],
   "source": [
    "# compute prices for strikes from 50 - 200 in steps of 10\n",
    "strikes = np.arange(50, 210, 10)\n",
    "prices = np.zeros_like(strikes, dtype=float)\n",
    "stderrs = np.zeros_like(strikes, dtype=float)\n",
    "\n",
    "for i, K in enumerate(strikes):\n",
    "    prices[i], _ = heston_call_option_price(K, N, M)\n",
    "    _, stderrs[i] = heston_call_option_price(K, N, M)\n",
    "    "
   ],
   "metadata": {
    "collapsed": false,
    "ExecuteTime": {
     "end_time": "2023-12-13T18:27:34.978776Z",
     "start_time": "2023-12-13T18:26:29.490894800Z"
    }
   },
   "id": "1cd82d61cc63f001"
  },
  {
   "cell_type": "code",
   "execution_count": 90,
   "outputs": [
    {
     "data": {
      "text/plain": "<Figure size 640x480 with 1 Axes>",
      "image/png": "[encoded data removed]"
     },
     "metadata": {},
     "output_type": "display_data"
    }
   ],
   "source": [
    "# plot prices and stderrs\n",
    "plt.plot(strikes, prices, label=\"Price\")\n",
    "plt.xlabel(\"Strike\")\n",
    "plt.ylabel(\"Option Price\")\n",
    "plt.grid(True)\n",
    "plt.legend()\n",
    "plt.show()\n"
   ],
   "metadata": {
    "collapsed": false,
    "ExecuteTime": {
     "end_time": "2023-12-13T18:27:35.181867900Z",
     "start_time": "2023-12-13T18:27:34.980804700Z"
    }
   },
   "id": "2e0f777577bd9e4f"
  },
  {
   "cell_type": "code",
   "execution_count": 91,
   "outputs": [],
   "source": [
    "import scipy.stats as sps\n",
    "import scipy.optimize as spo\n",
    "import matplotlib.pyplot as plt\n",
    "\n",
    "# Black-Scholes formula for a call option\n",
    "def black_scholes_call(S, K, T, r, sigma):\n",
    "    d1 = (np.log(S / K) + (r + 0.5 * sigma**2) * T) / (sigma * np.sqrt(T))\n",
    "    d2 = d1 - sigma * np.sqrt(T)\n",
    "    call_price = S * sps.norm.cdf(d1) - K * np.exp(-r * T) * sps.norm.cdf(d2)\n",
    "    return call_price\n",
    "\n",
    "# Function to calculate implied volatility\n",
    "def implied_volatility(Heston_price, S, K, T, r):\n",
    "    def f(sigma):\n",
    "        return black_scholes_call(S, K, T, r, sigma) - Heston_price\n",
    "    iv = spo.brentq(f, -1, 2)\n",
    "    return iv"
   ],
   "metadata": {
    "collapsed": false,
    "ExecuteTime": {
     "end_time": "2023-12-13T18:27:35.196829700Z",
     "start_time": "2023-12-13T18:27:35.175318500Z"
    }
   },
   "id": "e42a0fe846b5452f"
  },
  {
   "cell_type": "code",
   "execution_count": 92,
   "outputs": [],
   "source": [
    "IVs = []\n",
    "for K in strikes:\n",
    "    price, _ = heston_call_option_price(K, N, M)\n",
    "    IVs.append(implied_volatility(price, np.exp(S0), K, T, r))"
   ],
   "metadata": {
    "collapsed": false,
    "ExecuteTime": {
     "end_time": "2023-12-13T18:28:09.058719200Z",
     "start_time": "2023-12-13T18:27:35.187861300Z"
    }
   },
   "id": "4526450e5e1e6ab3"
  },
  {
   "cell_type": "code",
   "execution_count": 93,
   "outputs": [
    {
     "data": {
      "text/plain": "<Figure size 640x480 with 1 Axes>",
      "image/png": "[encoded data removed]"
     },
     "metadata": {},
     "output_type": "display_data"
    }
   ],
   "source": [
    "plt.plot(strikes, IVs, marker=\"o\")\n",
    "plt.title(\"Implied Volatility vs Strike Price\")\n",
    "plt.xlabel(\"Strike Price\")\n",
    "plt.ylabel(\"Implied Volatility\")\n",
    "plt.grid(True)\n",
    "plt.show()\n"
   ],
   "metadata": {
    "collapsed": false,
    "ExecuteTime": {
     "end_time": "2023-12-13T18:28:09.261709900Z",
     "start_time": "2023-12-13T18:28:09.061710600Z"
    }
   },
   "id": "996edb45e0efb47a"
  },
  {
   "cell_type": "markdown",
   "source": [
    "## Fourier transform\n",
    "$e^{-rT} e^{-ax}max\\{e^x - K, 0\\}$,\n",
    "\n",
    "After splitting the ft integral (nonzero for x>=ln(K)) and simplifying:\n",
    "\n",
    "$e^{-rt} \\int_{ln(K)}^{\\infty} e^{(1-a-ik)x} - Ke^{(-a-ik)x} dx$,\n",
    "\n",
    "From this a must be strictly greater than 1\n"
   ],
   "metadata": {
    "collapsed": false
   },
   "id": "f4d179565c3a2698"
  },
  {
   "cell_type": "code",
   "execution_count": 94,
   "outputs": [],
   "source": [
    "r = 0.02\n",
    "q = 0 # dividend yield\n",
    "s = 100.0 # not log here\n",
    "V0 = 0.01 \n",
    "lambda_ = 2 \n",
    "theta = 0.1 ** 2\n",
    "sigma_V = 0.1\n",
    "rho = -0.5\n",
    "k = 100\n",
    "T = 10\n"
   ],
   "metadata": {
    "collapsed": false,
    "ExecuteTime": {
     "end_time": "2023-12-13T18:28:09.261709900Z",
     "start_time": "2023-12-13T18:28:09.258719300Z"
    }
   },
   "id": "393a5f23fa2a01e1"
  },
  {
   "cell_type": "code",
   "execution_count": 95,
   "outputs": [
    {
     "name": "stdout",
     "output_type": "stream",
     "text": [
      "Price with K=100: 22.806991845424662\n"
     ]
    }
   ],
   "source": [
    "# used this for help: \n",
    "# https://www.scribd.com/document/486716159/The-vol-smile-problem-FX-focus\n",
    "# the vol smile problem, Lipton 2002, Risk\n",
    "\n",
    "def phi(u, T):\n",
    "    alpha_hat = -0.5 * u * (u + 1j)\n",
    "    beta = lambda_ - 1j * u * sigma_V * rho\n",
    "    gamma = 0.5 * sigma_V ** 2\n",
    "    d = np.sqrt(beta**2 - 4 * alpha_hat * gamma)\n",
    "    g = (beta - d) / (beta + d)\n",
    "    h = np.exp(-d*T)\n",
    "    A_ = (beta-d)*T - 2*np.log((g*h-1) / (g-1))\n",
    "    A = lambda_ * theta / (sigma_V**2) * A_\n",
    "    B = (beta - d) / (sigma_V**2) * (1 - h) / (1 - g*h)\n",
    "    return np.exp(A + B * V0)\n",
    "\n",
    "def integral(k, T):\n",
    "    integrand = (lambda u: \n",
    "        np.real(np.exp((1j*u + 0.5)*k)*phi(u - 0.5j, T))/(u**2 + 0.25))\n",
    "\n",
    "    i, err = scipy.integrate.quad(integrand, 0, np.inf)\n",
    "    return i\n",
    "\n",
    "def call(k, T):\n",
    "    a = np.log(s/k) + (r-q)*T\n",
    "    i = integral(a, T)        \n",
    "    return s * np.exp(-q*T) - k * np.exp(-r*T)/np.pi*i\n",
    "    \n",
    "print(\"Price with K=100:\",call(k, T))"
   ],
   "metadata": {
    "collapsed": false,
    "ExecuteTime": {
     "end_time": "2023-12-13T18:28:09.289784800Z",
     "start_time": "2023-12-13T18:28:09.268701100Z"
    }
   },
   "id": "d5ea650e33438632"
  },
  {
   "cell_type": "code",
   "execution_count": 96,
   "outputs": [],
   "source": [
    "# get prices for strikes 50-200\n",
    "fi_prices = np.zeros_like(strikes, dtype=float)\n",
    "\n",
    "for i, K in enumerate(strikes):\n",
    "    fi_prices[i] = call(K, T)\n",
    "\n",
    "allprices = np.vstack((strikes, prices, fi_prices, stderrs)).T"
   ],
   "metadata": {
    "collapsed": false,
    "ExecuteTime": {
     "end_time": "2023-12-13T18:28:09.380459600Z",
     "start_time": "2023-12-13T18:28:09.280809400Z"
    }
   },
   "id": "c4bddc52b54f254d"
  },
  {
   "cell_type": "markdown",
   "source": [
    "## Comparison"
   ],
   "metadata": {
    "collapsed": false
   },
   "id": "913e68ab0327a4fe"
  },
  {
   "cell_type": "code",
   "execution_count": 97,
   "outputs": [
    {
     "data": {
      "text/plain": "    Strike    Fourier         MC    Stderr      Diff\n0     50.0  59.165888  59.099941  0.099878  0.065947\n1     60.0  50.896525  51.036393  0.099202  0.139868\n2     70.0  43.347610  43.192182  0.097717  0.155428\n3     80.0  35.894034  35.746748  0.093810  0.147285\n4     90.0  28.854012  28.895943  0.089442  0.041930\n5    100.0  22.918693  22.806992  0.083910  0.111701\n6    110.0  17.745168  17.584596  0.076318  0.160572\n7    120.0  13.224282  13.258239  0.068253  0.033956\n8    130.0   9.971562   9.789278  0.059762  0.182284\n9    140.0   7.060973   7.089952  0.051024  0.028979\n10   150.0   5.078329   5.045683  0.043967  0.032646\n11   160.0   3.507879   3.534587  0.037324  0.026708\n12   170.0   2.450046   2.441376  0.030814  0.008669\n13   180.0   1.682790   1.665353  0.025450  0.017437\n14   190.0   1.115140   1.123583  0.021052  0.008444\n15   200.0   0.733088   0.750819  0.017070  0.017731",
      "text/html": "<div>\n<style scoped>\n    .dataframe tbody tr th:only-of-type {\n        vertical-align: middle;\n    }\n\n    .dataframe tbody tr th {\n        vertical-align: top;\n    }\n\n    .dataframe thead th {\n        text-align: right;\n    }\n</style>\n<table border=\"1\" class=\"dataframe\">\n  <thead>\n    <tr style=\"text-align: right;\">\n      <th></th>\n      <th>Strike</th>\n      <th>Fourier</th>\n      <th>MC</th>\n      <th>Stderr</th>\n      <th>Diff</th>\n    </tr>\n  </thead>\n  <tbody>\n    <tr>\n      <th>0</th>\n      <td>50.0</td>\n      <td>59.165888</td>\n      <td>59.099941</td>\n      <td>0.099878</td>\n      <td>0.065947</td>\n    </tr>\n    <tr>\n      <th>1</th>\n      <td>60.0</td>\n      <td>50.896525</td>\n      <td>51.036393</td>\n      <td>0.099202</td>\n      <td>0.139868</td>\n    </tr>\n    <tr>\n      <th>2</th>\n      <td>70.0</td>\n      <td>43.347610</td>\n      <td>43.192182</td>\n      <td>0.097717</td>\n      <td>0.155428</td>\n    </tr>\n    <tr>\n      <th>3</th>\n      <td>80.0</td>\n      <td>35.894034</td>\n      <td>35.746748</td>\n      <td>0.093810</td>\n      <td>0.147285</td>\n    </tr>\n    <tr>\n      <th>4</th>\n      <td>90.0</td>\n      <td>28.854012</td>\n      <td>28.895943</td>\n      <td>0.089442</td>\n      <td>0.041930</td>\n    </tr>\n    <tr>\n      <th>5</th>\n      <td>100.0</td>\n      <td>22.918693</td>\n      <td>22.806992</td>\n      <td>0.083910</td>\n      <td>0.111701</td>\n    </tr>\n    <tr>\n      <th>6</th>\n      <td>110.0</td>\n      <td>17.745168</td>\n      <td>17.584596</td>\n      <td>0.076318</td>\n      <td>0.160572</td>\n    </tr>\n    <tr>\n      <th>7</th>\n      <td>120.0</td>\n      <td>13.224282</td>\n      <td>13.258239</td>\n      <td>0.068253</td>\n      <td>0.033956</td>\n    </tr>\n    <tr>\n      <th>8</th>\n      <td>130.0</td>\n      <td>9.971562</td>\n      <td>9.789278</td>\n      <td>0.059762</td>\n      <td>0.182284</td>\n    </tr>\n    <tr>\n      <th>9</th>\n      <td>140.0</td>\n      <td>7.060973</td>\n      <td>7.089952</td>\n      <td>0.051024</td>\n      <td>0.028979</td>\n    </tr>\n    <tr>\n      <th>10</th>\n      <td>150.0</td>\n      <td>5.078329</td>\n      <td>5.045683</td>\n      <td>0.043967</td>\n      <td>0.032646</td>\n    </tr>\n    <tr>\n      <th>11</th>\n      <td>160.0</td>\n      <td>3.507879</td>\n      <td>3.534587</td>\n      <td>0.037324</td>\n      <td>0.026708</td>\n    </tr>\n    <tr>\n      <th>12</th>\n      <td>170.0</td>\n      <td>2.450046</td>\n      <td>2.441376</td>\n      <td>0.030814</td>\n      <td>0.008669</td>\n    </tr>\n    <tr>\n      <th>13</th>\n      <td>180.0</td>\n      <td>1.682790</td>\n      <td>1.665353</td>\n      <td>0.025450</td>\n      <td>0.017437</td>\n    </tr>\n    <tr>\n      <th>14</th>\n      <td>190.0</td>\n      <td>1.115140</td>\n      <td>1.123583</td>\n      <td>0.021052</td>\n      <td>0.008444</td>\n    </tr>\n    <tr>\n      <th>15</th>\n      <td>200.0</td>\n      <td>0.733088</td>\n      <td>0.750819</td>\n      <td>0.017070</td>\n      <td>0.017731</td>\n    </tr>\n  </tbody>\n</table>\n</div>"
     },
     "execution_count": 97,
     "metadata": {},
     "output_type": "execute_result"
    }
   ],
   "source": [
    "df = pd.DataFrame(allprices, columns=[\"Strike\", \"Fourier\", \"MC\", \"Stderr\"])\n",
    "df[\"Diff\"] = abs(df[\"Fourier\"] - df[\"MC\"])\n",
    "df"
   ],
   "metadata": {
    "collapsed": false,
    "ExecuteTime": {
     "end_time": "2023-12-13T18:28:09.381458100Z",
     "start_time": "2023-12-13T18:28:09.330393100Z"
    }
   },
   "id": "2b5f7a288f217492"
  }
 ],
 "metadata": {
  "kernelspec": {
   "display_name": "Python 3",
   "language": "python",
   "name": "python3"
  },
  "language_info": {
   "codemirror_mode": {
    "name": "ipython",
    "version": 2
   },
   "file_extension": ".py",
   "mimetype": "text/x-python",
   "name": "python",
   "nbconvert_exporter": "python",
   "pygments_lexer": "ipython2",
   "version": "2.7.6"
  }
 },
 "nbformat": 4,
 "nbformat_minor": 5
}
