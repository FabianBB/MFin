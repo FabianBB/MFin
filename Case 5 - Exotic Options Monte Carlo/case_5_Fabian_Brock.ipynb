{
 "cells": [
  {
   "cell_type": "markdown",
   "source": [
    "Fabian Brock\n",
    "Case 5\n",
    "i6248959"
   ],
   "metadata": {
    "collapsed": false
   }
  },
  {
   "cell_type": "code",
   "execution_count": 1,
   "outputs": [],
   "source": [
    "import numpy as np\n",
    "from scipy.stats import norm\n",
    "from sklearn.linear_model import LinearRegression"
   ],
   "metadata": {
    "collapsed": false,
    "ExecuteTime": {
     "end_time": "2023-11-29T12:28:58.674095Z",
     "start_time": "2023-11-29T12:28:58.003885Z"
    }
   }
  },
  {
   "cell_type": "markdown",
   "source": [
    "# Asian Option"
   ],
   "metadata": {
    "collapsed": false
   }
  },
  {
   "cell_type": "code",
   "execution_count": 2,
   "outputs": [],
   "source": [
    "# create a method for the monte carlo pricing of asian\n",
    "def MC_price_asian_option(S0, r, sigma, T, K, M, n):\n",
    "    dt = T/n  # Time step\n",
    "    # gbm\n",
    "    St = S0 * np.exp(np.cumsum((r - 0.5 * sigma**2) * dt\n",
    "                               + sigma * np.random.normal(0, np.sqrt(dt), (M, n)), axis=1))\n",
    "    # avg, set n = 10 so it will be avg of 10\n",
    "    average_St = np.mean(St, axis=1)\n",
    "\n",
    "    # payoff\n",
    "    payoffs = np.maximum(average_St - K, 0)\n",
    "\n",
    "    # discounting\n",
    "    discounted_payoff = np.exp(-r * T) * payoffs\n",
    "\n",
    "    # mean\n",
    "    price = np.mean(discounted_payoff)\n",
    "    return np.round(price, 4)"
   ],
   "metadata": {
    "collapsed": false,
    "ExecuteTime": {
     "end_time": "2023-11-29T12:28:58.680278300Z",
     "start_time": "2023-11-29T12:28:58.678086100Z"
    }
   }
  },
  {
   "cell_type": "code",
   "execution_count": 3,
   "outputs": [
    {
     "name": "stdout",
     "output_type": "stream",
     "text": [
      "Asian option price:  15.6967\n"
     ]
    }
   ],
   "source": [
    "S0 = 100\n",
    "r = 0.02\n",
    "sigma = 0.15\n",
    "T = 10\n",
    "K = 100\n",
    "M = 100000  # sims\n",
    "n = 10  # timesteps\n",
    "\n",
    "# Calculate the Asian option price using Monte Carlo simulation\n",
    "asian_option_price = MC_price_asian_option(S0, r, sigma, T, K, M, n)\n",
    "print(\"Asian option price: \", asian_option_price)"
   ],
   "metadata": {
    "collapsed": false,
    "ExecuteTime": {
     "end_time": "2023-11-29T12:28:58.738614100Z",
     "start_time": "2023-11-29T12:28:58.682271Z"
    }
   }
  },
  {
   "cell_type": "code",
   "execution_count": 4,
   "outputs": [
    {
     "name": "stdout",
     "output_type": "stream",
     "text": [
      "European Call price:  27.561\n"
     ]
    }
   ],
   "source": [
    "from utils import MC_price # code from week 3\n",
    "print(\"European Call price: \", MC_price(S0, r, sigma, T, K, M, n))"
   ],
   "metadata": {
    "collapsed": false,
    "ExecuteTime": {
     "end_time": "2023-11-29T12:28:59.464543500Z",
     "start_time": "2023-11-29T12:28:58.735593100Z"
    }
   }
  },
  {
   "cell_type": "markdown",
   "source": [
    "## As expected the asian option is cheaper"
   ],
   "metadata": {
    "collapsed": false
   }
  },
  {
   "cell_type": "code",
   "execution_count": 5,
   "outputs": [
    {
     "name": "stdout",
     "output_type": "stream",
     "text": [
      "A0:  91.5439908295937\n",
      "b:  0.09584030077452006\n",
      "Closed-form price:  15.973823843043995\n",
      "Asian option price:  15.7333\n"
     ]
    }
   ],
   "source": [
    "from utils import black_scholes_call_price # BSM code from previous weeks\n",
    "def compute_moments(S0, r, sigma, T, n):\n",
    "    dt = T / n\n",
    "    # first moment for each timstep\n",
    "    # S0 * e^(r * j)\n",
    "    first_moment_terms = S0 * np.exp(r * (np.arange(1, n + 1) * dt))\n",
    "    first_moment = np.mean(first_moment_terms)\n",
    "\n",
    "    # 2nd monent for each pair timesteps\n",
    "    # S0^2 * e^(r * (i + j) * dt + sigma^2 * min(i, j) * dt)\n",
    "    second_moment_sum = 0\n",
    "    for i in range(1, n + 1):\n",
    "        for j in range(1, n + 1):\n",
    "            second_moment_sum += S0**2 * np.exp(r * (i + j) * dt + sigma**2 * min(i, j) * dt)\n",
    "\n",
    "    second_moment = second_moment_sum  / n**2 # (1/10)^2 since n = 10\n",
    "\n",
    "    return first_moment, second_moment\n",
    "\n",
    "def compute_log_normal_approximation_params(first_moment, second_moment, r, T):\n",
    "    A0 = first_moment * np.exp(-r * T)\n",
    "    b_squared = (np.log(second_moment) - 2 * np.log(A0) - 2 * r * T) / T\n",
    "    b = np.sqrt(b_squared)\n",
    "    return A0, b\n",
    "\n",
    "# calc moments of A\n",
    "first_moment, second_moment = compute_moments(S0, r, sigma, T, n)\n",
    "\n",
    "# calc params for log normal apx\n",
    "A0, b = compute_log_normal_approximation_params(first_moment, second_moment, r, T)\n",
    "\n",
    "# BSM for log normal apx params\n",
    "closed_form_price = black_scholes_call_price(A0, K, r, b, T)\n",
    "\n",
    "print(\"A0: \", A0)\n",
    "print(\"b: \", b)\n",
    "# monte carlo asian price\n",
    "asian_option_price = MC_price_asian_option(S0, r, sigma, T, K, M, n)\n",
    "\n",
    "print(\"Closed-form price: \", closed_form_price)\n",
    "print(\"Asian option price: \", asian_option_price)"
   ],
   "metadata": {
    "collapsed": false,
    "ExecuteTime": {
     "end_time": "2023-11-29T12:28:59.518897100Z",
     "start_time": "2023-11-29T12:28:59.464543500Z"
    }
   }
  },
  {
   "cell_type": "markdown",
   "source": [
    "## The closed form price is very close to the monte carlo price"
   ],
   "metadata": {
    "collapsed": false
   }
  },
  {
   "cell_type": "markdown",
   "source": [
    "# Unit Linked with continuous guarantee"
   ],
   "metadata": {
    "collapsed": false
   }
  },
  {
   "cell_type": "code",
   "execution_count": 6,
   "outputs": [],
   "source": [
    "def binomial_tree_option_price(S0, K, r, n, T, sigma):\n",
    "    dt = T / n  # Time step\n",
    "    u = np.exp(sigma * np.sqrt(dt))\n",
    "    d = 1 / u\n",
    "    p = (np.exp(r * dt) - d) / (u - d)\n",
    "    # init tree\n",
    "    tree = np.zeros((n+1, n+1))\n",
    "\n",
    "    # final nodes values\n",
    "    for i in range(n+1):\n",
    "        tree[i, n] = max(K, S0 * u**(n-i) * d**i)\n",
    "\n",
    "    # backwards get optoin value\n",
    "    for j in range(n-1, -1, -1):\n",
    "        for i in range(j+1):\n",
    "            # max of hold or exercise\n",
    "            hold = np.exp(-r * dt) * (p * tree[i, j+1] + (1-p) * tree[i+1, j+1])\n",
    "            exercise = 100\n",
    "            tree[i, j] = max(hold, exercise)\n",
    "\n",
    "    return tree[0, 0]"
   ],
   "metadata": {
    "collapsed": false,
    "ExecuteTime": {
     "end_time": "2023-11-29T12:28:59.527267400Z",
     "start_time": "2023-11-29T12:28:59.517151300Z"
    }
   }
  },
  {
   "cell_type": "code",
   "execution_count": 7,
   "outputs": [],
   "source": [
    "def LSMC_unit_linked_price(S0, K, r, T, sigma, M, n):\n",
    "    dt = T / n  \n",
    "    discount_factor = np.exp(-r * dt)  \n",
    "\n",
    "    # M paths GBM\n",
    "    stock_paths = np.zeros((M, n + 1))  # init St matrix\n",
    "    stock_paths[:, 0] = S0  # init stock price\n",
    "\n",
    "    for t in range(1, n + 1):\n",
    "\n",
    "        # update St for every path\n",
    "        stock_paths[:, t] = stock_paths[:, t - 1] * np.exp((r - 0.5 * sigma**2) * dt + sigma * np.sqrt(dt) * norm.rvs(size=M))\n",
    "\n",
    "    # init payoff matrix\n",
    "    payoffs = np.maximum(K - stock_paths, 0)  # Calculate the payoff for a put option\n",
    "\n",
    "    # backward idncution\n",
    "    for t in range(n - 1, 0, -1):\n",
    "        in_the_money = stock_paths[:, t] < K  # find in the money\n",
    "        # lin regression for cont value\n",
    "        regression = LinearRegression().fit(\n",
    "            stock_paths[in_the_money, t].reshape(-1, 1),\n",
    "            payoffs[in_the_money, t + 1] * discount_factor\n",
    "        )\n",
    "        continuation_value = regression.predict(stock_paths[in_the_money, t].reshape(-1, 1))\n",
    "\n",
    "        # calc exercise val and decision\n",
    "        immediate_exercise_value = K - stock_paths[in_the_money, t]\n",
    "        exercise = immediate_exercise_value > continuation_value\n",
    "        # update payoffs based on decision\n",
    "        payoffs[in_the_money, t] = np.where(exercise, immediate_exercise_value, payoffs[in_the_money, t + 1] * discount_factor)\n",
    "        # update payoffs for OOTM\n",
    "        payoffs[~in_the_money, t] = payoffs[~in_the_money, t + 1] * discount_factor\n",
    "\n",
    "    # avg and discount\n",
    "    option_price = np.mean(payoffs[:, 1]) * discount_factor\n",
    "    return option_price + S0 # ez fix"
   ],
   "metadata": {
    "collapsed": false,
    "ExecuteTime": {
     "end_time": "2023-11-29T12:28:59.534808300Z",
     "start_time": "2023-11-29T12:28:59.524884500Z"
    }
   }
  },
  {
   "cell_type": "code",
   "execution_count": 8,
   "outputs": [
    {
     "name": "stdout",
     "output_type": "stream",
     "text": [
      "Continuous Guarantees\n",
      "Binomial Tree UL price:  111.66681188888981\n",
      "LS Monte Carlo UL price:  111.48534988363275\n",
      "Final Guarantee\n",
      "Binomial Tree UL price:  108.99512289501544\n"
     ]
    }
   ],
   "source": [
    "r = 0.02\n",
    "sigma = 0.15 \n",
    "S0 = 100  \n",
    "K = 100  \n",
    "T = 10 \n",
    "n = 10  # steps\n",
    "M = 100000  # sims\n",
    "\n",
    "option_price = binomial_tree_option_price(S0, K, r, n, T, sigma)\n",
    "LSMC_price = LSMC_unit_linked_price(S0, K, r, T, sigma, M, n)\n",
    "print(\"Continuous Guarantees\")\n",
    "print(\"Binomial Tree UL price: \", option_price)\n",
    "print(\"LS Monte Carlo UL price: \", LSMC_price)\n",
    "\n",
    "from utils import price_contract_vectorized # binomial tree for UL contract from week 1\n",
    "print(\"Final Guarantee\")\n",
    "print(\"Binomial Tree UL price: \", price_contract_vectorized(r, sigma, T, K, n, S0)+100)\n"
   ],
   "metadata": {
    "collapsed": false,
    "ExecuteTime": {
     "end_time": "2023-11-29T12:28:59.682699800Z",
     "start_time": "2023-11-29T12:28:59.531792400Z"
    }
   }
  },
  {
   "cell_type": "markdown",
   "source": [
    "## Binomial Tree and LSMC are quite close, as expected UL with cont. guarantee is more expensive"
   ],
   "metadata": {
    "collapsed": false
   }
  }
 ],
 "metadata": {
  "kernelspec": {
   "display_name": "Python 3",
   "language": "python",
   "name": "python3"
  },
  "language_info": {
   "codemirror_mode": {
    "name": "ipython",
    "version": 2
   },
   "file_extension": ".py",
   "mimetype": "text/x-python",
   "name": "python",
   "nbconvert_exporter": "python",
   "pygments_lexer": "ipython2",
   "version": "2.7.6"
  }
 },
 "nbformat": 4,
 "nbformat_minor": 0
}
