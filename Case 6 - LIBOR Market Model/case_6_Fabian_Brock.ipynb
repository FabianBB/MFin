{
 "cells": [
  {
   "cell_type": "markdown",
   "source": [
    "Case 6\n",
    "Fabian Brock\n",
    "i6248959"
   ],
   "metadata": {
    "collapsed": false
   }
  },
  {
   "cell_type": "markdown",
   "source": [
    "# LIBOR Market Model"
   ],
   "metadata": {
    "collapsed": false
   }
  },
  {
   "cell_type": "markdown",
   "source": [
    "## Discount bond prices"
   ],
   "metadata": {
    "collapsed": false
   }
  },
  {
   "cell_type": "code",
   "execution_count": 136,
   "outputs": [],
   "source": [
    "import numpy as np\n",
    "from scipy.stats import norm\n",
    "import pandas as pd"
   ],
   "metadata": {
    "collapsed": false,
    "ExecuteTime": {
     "end_time": "2023-12-06T23:59:34.299488600Z",
     "start_time": "2023-12-06T23:59:34.289656700Z"
    }
   }
  },
  {
   "cell_type": "code",
   "execution_count": 137,
   "outputs": [
    {
     "data": {
      "text/plain": "{1: 0.970873786407767,\n 2: 0.9425959091337544,\n 3: 0.9151416593531596,\n 4: 0.8884870479156888,\n 5: 0.8626087843841639,\n 6: 0.8374842566836542,\n 7: 0.8130915113433536,\n 8: 0.7894092343139355,\n 9: 0.7664167323436267,\n 10: 0.7440939148967249}"
     },
     "execution_count": 137,
     "metadata": {},
     "output_type": "execute_result"
    }
   ],
   "source": [
    "annual_interest_rate = 0.03  # 3% interest rate\n",
    "maturities = range(1, 11)  # Maturities from 1 to 9 years\n",
    "\n",
    "# using the formula P(0, T) = 1 / (1 + r)^T\n",
    "bond_prices = {T: 1 / ((1 + annual_interest_rate) ** T) for T in maturities}\n",
    "bond_prices"
   ],
   "metadata": {
    "collapsed": false,
    "ExecuteTime": {
     "end_time": "2023-12-06T23:59:34.326024100Z",
     "start_time": "2023-12-06T23:59:34.295985700Z"
    }
   },
   "id": "60e1c8f00165f1c7"
  },
  {
   "cell_type": "code",
   "execution_count": 138,
   "outputs": [
    {
     "data": {
      "text/plain": "array([0.03      , 0.02997317, 0.02996082, 0.02995905, 0.03002102,\n       0.03000746, 0.03009609, 0.03009348, 0.03009618, 0.03012247,\n       0.03017021])"
     },
     "execution_count": 138,
     "metadata": {},
     "output_type": "execute_result"
    }
   ],
   "source": [
    "initial_forward_rate = 0.03\n",
    "sigma = 0.01\n",
    "num_maturities = 9  # f0 to f9\n",
    "num_paths = 10000\n",
    "time_step = 1 # deltaT\n",
    "total_time = 10  # sim time\n",
    "\n",
    "# timepoints\n",
    "num_steps = int(total_time / time_step)\n",
    "time_points = np.linspace(0, total_time, num_steps + 1)\n",
    "\n",
    "# init forward rates matrix\n",
    "forward_rates = np.zeros((num_paths, num_maturities, num_steps + 1))\n",
    "forward_rates[:, :, 0] = initial_forward_rate\n",
    "\n",
    "# MC\n",
    "np.random.seed(0)\n",
    "for path in range(num_paths):\n",
    "    for step in range(num_steps):\n",
    "        dt = time_points[step + 1] - time_points[step]\n",
    "        dW = np.random.normal(0, np.sqrt(dt), num_maturities)\n",
    "        forward_rates[path, :, step + 1] = forward_rates[path, :, step] + sigma * dW\n",
    "\n",
    "# avg forward rates of all paths\n",
    "average_forward_rates = forward_rates.mean(axis=0)\n",
    "\n",
    "# avg forward rates at year end\n",
    "average_forward_rates_at_year_end = average_forward_rates[:, ::int(1/time_step)]\n",
    "# avg per column\n",
    "average_forward_rates = average_forward_rates_at_year_end.mean(axis=0)\n",
    "average_forward_rates"
   ],
   "metadata": {
    "collapsed": false,
    "ExecuteTime": {
     "end_time": "2023-12-06T23:59:34.769474700Z",
     "start_time": "2023-12-06T23:59:34.310321100Z"
    }
   },
   "id": "96917e6667620df"
  },
  {
   "cell_type": "code",
   "execution_count": 139,
   "outputs": [],
   "source": [
    "# d10 as numeraire\n",
    "num_maturities = 10  # f0 to f9\n",
    "num_steps = num_maturities\n",
    "time_step = 1  # dt = 1\n",
    "sigma = 0.01\n",
    "\n",
    "# init forward rates matrix\n",
    "forward_rates_mc = np.zeros((num_paths, num_maturities, num_steps + 1))\n",
    "forward_rates_mc[:, :, 0] = initial_forward_rate\n",
    "\n",
    "# MC q10\n",
    "np.random.seed(0)\n",
    "for path in range(num_paths):\n",
    "    for step in range(num_steps):\n",
    "        dW = np.random.normal(0, np.sqrt(time_step), num_maturities)\n",
    "        forward_rates_mc[path, :, step + 1] = forward_rates_mc[path, :, step] + sigma * dW\n",
    "\n",
    "\n",
    "mc_discount_bond_values = np.zeros((num_maturities, num_steps + 1))\n",
    "\n",
    "# now value and average over paths\n",
    "for i in range(num_maturities):\n",
    "    for path in range(num_paths):\n",
    "        # \"discount factor\"\n",
    "        discount_factor = np.prod(1 / (1 + time_step * forward_rates_mc[path, :i+1, i]))\n",
    "        mc_discount_bond_values[i] += discount_factor\n",
    "\n",
    "    # avg\n",
    "    mc_discount_bond_values[i] /= num_paths\n",
    "\n",
    "# get at t=0\n",
    "mc_discount_values_at_t0 = mc_discount_bond_values[:, 0]"
   ],
   "metadata": {
    "collapsed": false,
    "ExecuteTime": {
     "end_time": "2023-12-06T23:59:35.981957300Z",
     "start_time": "2023-12-06T23:59:34.772545Z"
    }
   },
   "id": "4c7a8d8c0bbb3b90"
  },
  {
   "cell_type": "code",
   "execution_count": 140,
   "outputs": [
    {
     "data": {
      "text/plain": "      LIBOR        MC    Difference\n0  0.970874  0.970874  8.570922e-14\n1  0.942596  0.942832 -2.361074e-04\n2  0.915142  0.915634 -4.927686e-04\n3  0.888487  0.889682 -1.195094e-03\n4  0.862609  0.864407 -1.798257e-03\n5  0.837484  0.839717 -2.232433e-03\n6  0.813092  0.815885 -2.793813e-03\n7  0.789409  0.793326 -3.916634e-03\n8  0.766417  0.771527 -5.109835e-03\n9  0.744094  0.749409 -5.315102e-03",
      "text/html": "<div>\n<style scoped>\n    .dataframe tbody tr th:only-of-type {\n        vertical-align: middle;\n    }\n\n    .dataframe tbody tr th {\n        vertical-align: top;\n    }\n\n    .dataframe thead th {\n        text-align: right;\n    }\n</style>\n<table border=\"1\" class=\"dataframe\">\n  <thead>\n    <tr style=\"text-align: right;\">\n      <th></th>\n      <th>LIBOR</th>\n      <th>MC</th>\n      <th>Difference</th>\n    </tr>\n  </thead>\n  <tbody>\n    <tr>\n      <th>0</th>\n      <td>0.970874</td>\n      <td>0.970874</td>\n      <td>8.570922e-14</td>\n    </tr>\n    <tr>\n      <th>1</th>\n      <td>0.942596</td>\n      <td>0.942832</td>\n      <td>-2.361074e-04</td>\n    </tr>\n    <tr>\n      <th>2</th>\n      <td>0.915142</td>\n      <td>0.915634</td>\n      <td>-4.927686e-04</td>\n    </tr>\n    <tr>\n      <th>3</th>\n      <td>0.888487</td>\n      <td>0.889682</td>\n      <td>-1.195094e-03</td>\n    </tr>\n    <tr>\n      <th>4</th>\n      <td>0.862609</td>\n      <td>0.864407</td>\n      <td>-1.798257e-03</td>\n    </tr>\n    <tr>\n      <th>5</th>\n      <td>0.837484</td>\n      <td>0.839717</td>\n      <td>-2.232433e-03</td>\n    </tr>\n    <tr>\n      <th>6</th>\n      <td>0.813092</td>\n      <td>0.815885</td>\n      <td>-2.793813e-03</td>\n    </tr>\n    <tr>\n      <th>7</th>\n      <td>0.789409</td>\n      <td>0.793326</td>\n      <td>-3.916634e-03</td>\n    </tr>\n    <tr>\n      <th>8</th>\n      <td>0.766417</td>\n      <td>0.771527</td>\n      <td>-5.109835e-03</td>\n    </tr>\n    <tr>\n      <th>9</th>\n      <td>0.744094</td>\n      <td>0.749409</td>\n      <td>-5.315102e-03</td>\n    </tr>\n  </tbody>\n</table>\n</div>"
     },
     "execution_count": 140,
     "metadata": {},
     "output_type": "execute_result"
    }
   ],
   "source": [
    "# convert bond prices values to numpy array\n",
    "libor = np.array(list(bond_prices.values()))\n",
    "both = pd.DataFrame(np.vstack([libor, mc_discount_values_at_t0]).T, columns=[\"LIBOR\", \"MC\"])\n",
    "both[\"Difference\"] = both.LIBOR - both.MC\n",
    "both"
   ],
   "metadata": {
    "collapsed": false,
    "ExecuteTime": {
     "end_time": "2023-12-06T23:59:35.997475700Z",
     "start_time": "2023-12-06T23:59:35.983958800Z"
    }
   }
  },
  {
   "cell_type": "markdown",
   "source": [
    "## Gaussian Swaption Formulas"
   ],
   "metadata": {
    "collapsed": false
   }
  },
  {
   "cell_type": "code",
   "execution_count": 141,
   "outputs": [],
   "source": [
    "def gauss_payer_swaption(principal, strike, volatility, option_maturity, current_time, discount_factors):\n",
    "\n",
    "    sum_discount_factors = sum(discount_factors)\n",
    "    forward_rate = (discount_factors[0] - discount_factors[-1]) / sum_discount_factors\n",
    "    d = (forward_rate - strike) / (volatility * np.sqrt(option_maturity - current_time))\n",
    "    phi_d = np.exp(-0.5 * d**2) / np.sqrt(2 * np.pi)\n",
    "\n",
    "    swaption_price = principal * sum_discount_factors * ((forward_rate - strike) * norm.cdf(d) + volatility * np.sqrt(option_maturity - current_time) * phi_d)\n",
    "    return swaption_price"
   ],
   "metadata": {
    "collapsed": false,
    "ExecuteTime": {
     "end_time": "2023-12-06T23:59:36.014654600Z",
     "start_time": "2023-12-06T23:59:35.999475800Z"
    }
   }
  },
  {
   "cell_type": "code",
   "execution_count": 142,
   "outputs": [
    {
     "data": {
      "text/plain": "       0.01      0.02      0.03      0.04      0.05\n1  0.008001  0.004911  0.002818  0.001505  0.000746\n2  0.028986  0.019472  0.012320  0.007305  0.004040\n3  0.051075  0.035266  0.022997  0.014087  0.008067\n4  0.072929  0.051026  0.033763  0.021012  0.012239\n5  0.094303  0.066494  0.044377  0.027878  0.016402\n6  0.115130  0.081593  0.054764  0.034616  0.020502\n7  0.135392  0.096299  0.064893  0.041199  0.024517\n8  0.155090  0.110605  0.074756  0.047616  0.028435\n9  0.174230  0.124512  0.084350  0.053863  0.032254",
      "text/html": "<div>\n<style scoped>\n    .dataframe tbody tr th:only-of-type {\n        vertical-align: middle;\n    }\n\n    .dataframe tbody tr th {\n        vertical-align: top;\n    }\n\n    .dataframe thead th {\n        text-align: right;\n    }\n</style>\n<table border=\"1\" class=\"dataframe\">\n  <thead>\n    <tr style=\"text-align: right;\">\n      <th></th>\n      <th>0.01</th>\n      <th>0.02</th>\n      <th>0.03</th>\n      <th>0.04</th>\n      <th>0.05</th>\n    </tr>\n  </thead>\n  <tbody>\n    <tr>\n      <th>1</th>\n      <td>0.008001</td>\n      <td>0.004911</td>\n      <td>0.002818</td>\n      <td>0.001505</td>\n      <td>0.000746</td>\n    </tr>\n    <tr>\n      <th>2</th>\n      <td>0.028986</td>\n      <td>0.019472</td>\n      <td>0.012320</td>\n      <td>0.007305</td>\n      <td>0.004040</td>\n    </tr>\n    <tr>\n      <th>3</th>\n      <td>0.051075</td>\n      <td>0.035266</td>\n      <td>0.022997</td>\n      <td>0.014087</td>\n      <td>0.008067</td>\n    </tr>\n    <tr>\n      <th>4</th>\n      <td>0.072929</td>\n      <td>0.051026</td>\n      <td>0.033763</td>\n      <td>0.021012</td>\n      <td>0.012239</td>\n    </tr>\n    <tr>\n      <th>5</th>\n      <td>0.094303</td>\n      <td>0.066494</td>\n      <td>0.044377</td>\n      <td>0.027878</td>\n      <td>0.016402</td>\n    </tr>\n    <tr>\n      <th>6</th>\n      <td>0.115130</td>\n      <td>0.081593</td>\n      <td>0.054764</td>\n      <td>0.034616</td>\n      <td>0.020502</td>\n    </tr>\n    <tr>\n      <th>7</th>\n      <td>0.135392</td>\n      <td>0.096299</td>\n      <td>0.064893</td>\n      <td>0.041199</td>\n      <td>0.024517</td>\n    </tr>\n    <tr>\n      <th>8</th>\n      <td>0.155090</td>\n      <td>0.110605</td>\n      <td>0.074756</td>\n      <td>0.047616</td>\n      <td>0.028435</td>\n    </tr>\n    <tr>\n      <th>9</th>\n      <td>0.174230</td>\n      <td>0.124512</td>\n      <td>0.084350</td>\n      <td>0.053863</td>\n      <td>0.032254</td>\n    </tr>\n  </tbody>\n</table>\n</div>"
     },
     "execution_count": 142,
     "metadata": {},
     "output_type": "execute_result"
    }
   ],
   "source": [
    "# Parameters\n",
    "principal = 1\n",
    "volatility = 0.01  # gaussian\n",
    "option_maturity = 10\n",
    "current_time = 0\n",
    "maturities = np.arange(1, 10)  # maturieites from 1 to 9\n",
    "strikes = np.arange(0.01, 0.06, 0.01)  # strike rates from 1% to 5%\n",
    "annual_interest_rate = 0.03  # term strucuture 3%\n",
    "num_paths = 10000\n",
    "\n",
    "# \"discount facotrs\"\n",
    "#discount_factors = [np.exp(-annual_interest_rate * t) for t in range(1, option_maturity + 1)]\n",
    "discount_factors = [ 1 / ((1 + annual_interest_rate) ** T) for T in maturities]\n",
    "\n",
    "\n",
    "# swaption prices\n",
    "swaption_prices = np.array([\n",
    "    [gauss_payer_swaption(principal, strike, volatility, option_maturity, current_time, discount_factors[:maturity])\n",
    "     for strike in strikes] for maturity in maturities])\n",
    "\n",
    "\n",
    "# make dataframe out of swaption prices\n",
    "swaption_prices_df = pd.DataFrame(swaption_prices, index=maturities, columns=strikes)\n",
    "swaption_prices_df\n"
   ],
   "metadata": {
    "collapsed": false,
    "ExecuteTime": {
     "end_time": "2023-12-06T23:59:36.054028Z",
     "start_time": "2023-12-06T23:59:36.013654700Z"
    }
   }
  },
  {
   "cell_type": "code",
   "execution_count": 143,
   "outputs": [
    {
     "data": {
      "text/plain": "0.08435028650795875"
     },
     "execution_count": 143,
     "metadata": {},
     "output_type": "execute_result"
    }
   ],
   "source": [
    "gauss_payer_swaption(principal, 0.03, volatility, option_maturity, current_time, discount_factors[:9])"
   ],
   "metadata": {
    "collapsed": false,
    "ExecuteTime": {
     "end_time": "2023-12-06T23:59:36.069518400Z",
     "start_time": "2023-12-06T23:59:36.046466800Z"
    }
   }
  },
  {
   "cell_type": "code",
   "execution_count": 144,
   "outputs": [
    {
     "data": {
      "text/plain": "   Gaussian       LMM  Difference\n1  0.000004  0.003900   -0.003897\n2  0.001912  0.005248   -0.003336\n3  0.008201  0.006474    0.001727\n4  0.016925  0.007024    0.009902\n5  0.027230  0.007651    0.019579\n6  0.038713  0.008295    0.030418\n7  0.051009  0.008689    0.042321\n8  0.063758  0.008866    0.054892\n9  0.077042  0.009356    0.067687",
      "text/html": "<div>\n<style scoped>\n    .dataframe tbody tr th:only-of-type {\n        vertical-align: middle;\n    }\n\n    .dataframe tbody tr th {\n        vertical-align: top;\n    }\n\n    .dataframe thead th {\n        text-align: right;\n    }\n</style>\n<table border=\"1\" class=\"dataframe\">\n  <thead>\n    <tr style=\"text-align: right;\">\n      <th></th>\n      <th>Gaussian</th>\n      <th>LMM</th>\n      <th>Difference</th>\n    </tr>\n  </thead>\n  <tbody>\n    <tr>\n      <th>1</th>\n      <td>0.000004</td>\n      <td>0.003900</td>\n      <td>-0.003897</td>\n    </tr>\n    <tr>\n      <th>2</th>\n      <td>0.001912</td>\n      <td>0.005248</td>\n      <td>-0.003336</td>\n    </tr>\n    <tr>\n      <th>3</th>\n      <td>0.008201</td>\n      <td>0.006474</td>\n      <td>0.001727</td>\n    </tr>\n    <tr>\n      <th>4</th>\n      <td>0.016925</td>\n      <td>0.007024</td>\n      <td>0.009902</td>\n    </tr>\n    <tr>\n      <th>5</th>\n      <td>0.027230</td>\n      <td>0.007651</td>\n      <td>0.019579</td>\n    </tr>\n    <tr>\n      <th>6</th>\n      <td>0.038713</td>\n      <td>0.008295</td>\n      <td>0.030418</td>\n    </tr>\n    <tr>\n      <th>7</th>\n      <td>0.051009</td>\n      <td>0.008689</td>\n      <td>0.042321</td>\n    </tr>\n    <tr>\n      <th>8</th>\n      <td>0.063758</td>\n      <td>0.008866</td>\n      <td>0.054892</td>\n    </tr>\n    <tr>\n      <th>9</th>\n      <td>0.077042</td>\n      <td>0.009356</td>\n      <td>0.067687</td>\n    </tr>\n  </tbody>\n</table>\n</div>"
     },
     "execution_count": 144,
     "metadata": {},
     "output_type": "execute_result"
    }
   ],
   "source": [
    "strike = 0.03\n",
    "# gaussian swaptions\n",
    "gaussian_swaption_prices = pd.DataFrame(index=maturities)\n",
    "for maturity in maturities:\n",
    "\n",
    "        price = gauss_payer_swaption(principal, strike, volatility, maturity, 0, mc_discount_values_at_t0[:maturity])\n",
    "        gaussian_swaption_prices.at[maturity, strike] = price\n",
    "\n",
    "# lmm swaption using MC\n",
    "lmm_swaption_prices = pd.DataFrame(index=maturities)\n",
    "for maturity in maturities:\n",
    "\n",
    "        payoffs = []\n",
    "        for path in range(num_paths):\n",
    "            forward_rate_at_maturity = forward_rates_mc[path, maturity - 1, maturity]\n",
    "            payoff = max(forward_rate_at_maturity - strike, 0) * principal\n",
    "            discounted_payoff = payoff * mc_discount_values_at_t0[maturity - 1]\n",
    "            payoffs.append(discounted_payoff)\n",
    "        lmm_price = np.mean(payoffs)\n",
    "        lmm_swaption_prices.at[maturity, strike] = lmm_price\n",
    "\n",
    "# merge dfs and rename cols\n",
    "both = pd.merge(gaussian_swaption_prices, lmm_swaption_prices, left_index=True, right_index=True)\n",
    "both.columns = [\"Gaussian\", \"LMM\"]\n",
    "both[\"Difference\"] = both.Gaussian - both.LMM\n",
    "both\n",
    "\n"
   ],
   "metadata": {
    "collapsed": false,
    "ExecuteTime": {
     "end_time": "2023-12-06T23:59:36.154634600Z",
     "start_time": "2023-12-06T23:59:36.047467200Z"
    }
   }
  },
  {
   "cell_type": "markdown",
   "source": [
    "I have no idea why these are so far apart, I guess the guassian approximation is not very good (or I made a mistake). Maybe its because of the euler discretization, especially only taking 1y timesteps?"
   ],
   "metadata": {
    "collapsed": false
   }
  },
  {
   "cell_type": "code",
   "execution_count": 144,
   "outputs": [],
   "source": [],
   "metadata": {
    "collapsed": false,
    "ExecuteTime": {
     "end_time": "2023-12-06T23:59:36.170851300Z",
     "start_time": "2023-12-06T23:59:36.155634800Z"
    }
   }
  }
 ],
 "metadata": {
  "kernelspec": {
   "display_name": "Python 3",
   "language": "python",
   "name": "python3"
  },
  "language_info": {
   "codemirror_mode": {
    "name": "ipython",
    "version": 2
   },
   "file_extension": ".py",
   "mimetype": "text/x-python",
   "name": "python",
   "nbconvert_exporter": "python",
   "pygments_lexer": "ipython2",
   "version": "2.7.6"
  }
 },
 "nbformat": 4,
 "nbformat_minor": 5
}
