{
 "cells": [
  {
   "cell_type": "markdown",
   "source": [
    "Case 6\n",
    "Fabian Brock\n",
    "i6248959"
   ],
   "metadata": {
    "collapsed": false
   }
  },
  {
   "cell_type": "markdown",
   "source": [
    "# LIBOR Market Model\n",
    "We want to consider a LIBOR Market Model with forward LIBOR rates 𝑓𝑓𝑖𝑖(𝑡𝑡) with Δ𝑇𝑇 = 1 and 𝑁𝑁 = 10.\n",
    "So, the final time-point in this model is 𝑇𝑇10 = 10 years. The initial term-structure of interest rates is\n",
    "equal to 𝑓𝑓𝑖𝑖(0) = 0.03 = 3% for all 𝑖𝑖 = 0 ... 9. We will model all LIBOR rates as Gaussian martingales:\n",
    "𝑓𝑓𝑖𝑖(𝑡𝑡) = 𝜎𝜎𝑖𝑖 𝑑𝑑𝑊𝑊 ℚ𝑖𝑖+1\n",
    "(𝑡𝑡), with 𝜎𝜎𝑖𝑖 ≡ 0.01 = 1% for all 𝑖𝑖 = 0 ... 9."
   ],
   "metadata": {
    "collapsed": false
   }
  },
  {
   "cell_type": "markdown",
   "source": [
    "## Discount bond prices"
   ],
   "metadata": {
    "collapsed": false
   }
  },
  {
   "cell_type": "code",
   "execution_count": 117,
   "outputs": [],
   "source": [
    "import numpy\n",
    "import numpy as np\n",
    "from scipy.stats import norm\n",
    "import pandas as pd"
   ],
   "metadata": {
    "collapsed": false,
    "ExecuteTime": {
     "end_time": "2023-12-06T17:31:26.473070500Z",
     "start_time": "2023-12-06T17:31:26.458553Z"
    }
   }
  },
  {
   "cell_type": "code",
   "execution_count": 118,
   "outputs": [
    {
     "data": {
      "text/plain": "{1: 0.970873786407767,\n 2: 0.9425959091337544,\n 3: 0.9151416593531596,\n 4: 0.8884870479156888,\n 5: 0.8626087843841639,\n 6: 0.8374842566836542,\n 7: 0.8130915113433536,\n 8: 0.7894092343139355,\n 9: 0.7664167323436267,\n 10: 0.7440939148967249}"
     },
     "execution_count": 118,
     "metadata": {},
     "output_type": "execute_result"
    }
   ],
   "source": [
    "annual_interest_rate = 0.03  # 3% interest rate\n",
    "maturities = range(1, 11)  # Maturities from 1 to 9 years\n",
    "\n",
    "# using the formula P(0, T) = 1 / (1 + r)^T\n",
    "bond_prices = {T: 1 / ((1 + annual_interest_rate) ** T) for T in maturities}\n",
    "bond_prices"
   ],
   "metadata": {
    "collapsed": false,
    "ExecuteTime": {
     "end_time": "2023-12-06T17:31:26.503403Z",
     "start_time": "2023-12-06T17:31:26.475071Z"
    }
   },
   "id": "60e1c8f00165f1c7"
  },
  {
   "cell_type": "code",
   "execution_count": 119,
   "outputs": [
    {
     "data": {
      "text/plain": "array([0.03      , 0.02997317, 0.02996082, 0.02995905, 0.03002102,\n       0.03000746, 0.03009609, 0.03009348, 0.03009618, 0.03012247,\n       0.03017021])"
     },
     "execution_count": 119,
     "metadata": {},
     "output_type": "execute_result"
    }
   ],
   "source": [
    "initial_forward_rate = 0.03\n",
    "sigma = 0.01\n",
    "num_maturities = 9  # f0 to f9\n",
    "num_paths = 10000\n",
    "time_step = 1 # deltaT\n",
    "total_time = 10  # sim time\n",
    "\n",
    "# timepoints\n",
    "num_steps = int(total_time / time_step)\n",
    "time_points = np.linspace(0, total_time, num_steps + 1)\n",
    "\n",
    "# init forward rates matrix\n",
    "forward_rates = np.zeros((num_paths, num_maturities, num_steps + 1))\n",
    "forward_rates[:, :, 0] = initial_forward_rate\n",
    "\n",
    "# MC\n",
    "np.random.seed(0)\n",
    "for path in range(num_paths):\n",
    "    for step in range(num_steps):\n",
    "        dt = time_points[step + 1] - time_points[step]\n",
    "        dW = np.random.normal(0, np.sqrt(dt), num_maturities)\n",
    "        forward_rates[path, :, step + 1] = forward_rates[path, :, step] + sigma * dW\n",
    "\n",
    "# avg forward rates of all paths\n",
    "average_forward_rates = forward_rates.mean(axis=0)\n",
    "\n",
    "# avg forward rates at year end\n",
    "average_forward_rates_at_year_end = average_forward_rates[:, ::int(1/time_step)]\n",
    "# avg per column\n",
    "average_forward_rates = average_forward_rates_at_year_end.mean(axis=0)\n",
    "average_forward_rates"
   ],
   "metadata": {
    "collapsed": false,
    "ExecuteTime": {
     "end_time": "2023-12-06T17:31:26.929665500Z",
     "start_time": "2023-12-06T17:31:26.490451Z"
    }
   },
   "id": "96917e6667620df"
  },
  {
   "cell_type": "code",
   "execution_count": 120,
   "outputs": [
    {
     "data": {
      "text/plain": "array([0.97087379, 0.94260751, 0.91518797, 0.88865491, 0.8622649 ,\n       0.83714808, 0.81246462, 0.78884481, 0.76582021])"
     },
     "execution_count": 120,
     "metadata": {},
     "output_type": "execute_result"
    }
   ],
   "source": [
    "# Calculating the Monte Carlo values for discount bonds\n",
    "\n",
    "# Initialize an array to store the Monte Carlo values of the bonds\n",
    "mc_bond_values = np.zeros((num_maturities, num_steps + 1))\n",
    "\n",
    "\n",
    "# Calculate the present value of each bond for each path and then average\n",
    "for i in range(num_maturities):\n",
    "    for path in range(num_paths):\n",
    "        # Calculate the discount factor for each path at maturity T_i\n",
    "        discount_factor = np.prod(1 + time_step * forward_rates[path, :i+1, i])\n",
    "        mc_bond_values[i] += discount_factor\n",
    "\n",
    "    # Average the discount factors over all paths\n",
    "    mc_bond_values[i] /= num_paths\n",
    "\n",
    "# Monte Carlo values of the bonds at t=0\n",
    "mc_values_at_t0 = 1 / mc_bond_values[:, 0]\n",
    "mc_values_at_t0"
   ],
   "metadata": {
    "collapsed": false,
    "ExecuteTime": {
     "end_time": "2023-12-06T17:31:27.508202300Z",
     "start_time": "2023-12-06T17:31:26.930665400Z"
    }
   },
   "id": "a567cf5503672ade"
  },
  {
   "cell_type": "code",
   "execution_count": 121,
   "outputs": [
    {
     "data": {
      "text/plain": "array([0.97087379, 0.94283202, 0.91563443, 0.88968214, 0.86440704,\n       0.83971669, 0.81588532, 0.79332587, 0.77152657, 0.74940902])"
     },
     "execution_count": 121,
     "metadata": {},
     "output_type": "execute_result"
    }
   ],
   "source": [
    "# Adjusted parameters for the Monte Carlo simulation using D_10(t) as the numeraire\n",
    "num_maturities = 10  # Number of forward rates (f0 to f9, inclusive)\n",
    "num_steps = num_maturities  # Total simulation time in years\n",
    "time_step = 1  # Time step in years, Δ = 1\n",
    "sigma = 0.01  # Constant volatility 1%\n",
    "\n",
    "# Initializing matrix to store simulated forward rates for each path\n",
    "forward_rates_mc = np.zeros((num_paths, num_maturities, num_steps + 1))\n",
    "forward_rates_mc[:, :, 0] = initial_forward_rate\n",
    "\n",
    "# Monte Carlo simulation under Q_10 measure\n",
    "np.random.seed(0)  # For reproducibility\n",
    "for path in range(num_paths):\n",
    "    for step in range(num_steps):\n",
    "        dW = np.random.normal(0, np.sqrt(time_step), num_maturities)  # Brownian motion increment\n",
    "        forward_rates_mc[path, :, step + 1] = forward_rates_mc[path, :, step] + sigma * dW\n",
    "\n",
    "# Calculating the Monte Carlo values for discount bonds under Q_10\n",
    "mc_discount_bond_values = np.zeros((num_maturities, num_steps + 1))\n",
    "\n",
    "# Calculating the present value of each bond for each path and then averaging\n",
    "for i in range(num_maturities):\n",
    "    for path in range(num_paths):\n",
    "        # Calculate the discount factor for each path at maturity T_i\n",
    "        discount_factor = np.prod(1 / (1 + time_step * forward_rates_mc[path, :i+1, i]))\n",
    "        mc_discount_bond_values[i] += discount_factor\n",
    "\n",
    "    # Average the discount factors over all paths\n",
    "    mc_discount_bond_values[i] /= num_paths\n",
    "\n",
    "# Extracting the Monte Carlo values of the bonds at t=0\n",
    "mc_discount_values_at_t0 = mc_discount_bond_values[:, 0]\n",
    "mc_discount_values_at_t0\n",
    "\n"
   ],
   "metadata": {
    "collapsed": false,
    "ExecuteTime": {
     "end_time": "2023-12-06T17:31:28.685305500Z",
     "start_time": "2023-12-06T17:31:27.511203900Z"
    }
   },
   "id": "4c7a8d8c0bbb3b90"
  },
  {
   "cell_type": "code",
   "execution_count": 122,
   "outputs": [
    {
     "data": {
      "text/plain": "      LIBOR        MC    Difference\n0  0.970874  0.970874  8.570922e-14\n1  0.942596  0.942832 -2.361074e-04\n2  0.915142  0.915634 -4.927686e-04\n3  0.888487  0.889682 -1.195094e-03\n4  0.862609  0.864407 -1.798257e-03\n5  0.837484  0.839717 -2.232433e-03\n6  0.813092  0.815885 -2.793813e-03\n7  0.789409  0.793326 -3.916634e-03\n8  0.766417  0.771527 -5.109835e-03\n9  0.744094  0.749409 -5.315102e-03",
      "text/html": "<div>\n<style scoped>\n    .dataframe tbody tr th:only-of-type {\n        vertical-align: middle;\n    }\n\n    .dataframe tbody tr th {\n        vertical-align: top;\n    }\n\n    .dataframe thead th {\n        text-align: right;\n    }\n</style>\n<table border=\"1\" class=\"dataframe\">\n  <thead>\n    <tr style=\"text-align: right;\">\n      <th></th>\n      <th>LIBOR</th>\n      <th>MC</th>\n      <th>Difference</th>\n    </tr>\n  </thead>\n  <tbody>\n    <tr>\n      <th>0</th>\n      <td>0.970874</td>\n      <td>0.970874</td>\n      <td>8.570922e-14</td>\n    </tr>\n    <tr>\n      <th>1</th>\n      <td>0.942596</td>\n      <td>0.942832</td>\n      <td>-2.361074e-04</td>\n    </tr>\n    <tr>\n      <th>2</th>\n      <td>0.915142</td>\n      <td>0.915634</td>\n      <td>-4.927686e-04</td>\n    </tr>\n    <tr>\n      <th>3</th>\n      <td>0.888487</td>\n      <td>0.889682</td>\n      <td>-1.195094e-03</td>\n    </tr>\n    <tr>\n      <th>4</th>\n      <td>0.862609</td>\n      <td>0.864407</td>\n      <td>-1.798257e-03</td>\n    </tr>\n    <tr>\n      <th>5</th>\n      <td>0.837484</td>\n      <td>0.839717</td>\n      <td>-2.232433e-03</td>\n    </tr>\n    <tr>\n      <th>6</th>\n      <td>0.813092</td>\n      <td>0.815885</td>\n      <td>-2.793813e-03</td>\n    </tr>\n    <tr>\n      <th>7</th>\n      <td>0.789409</td>\n      <td>0.793326</td>\n      <td>-3.916634e-03</td>\n    </tr>\n    <tr>\n      <th>8</th>\n      <td>0.766417</td>\n      <td>0.771527</td>\n      <td>-5.109835e-03</td>\n    </tr>\n    <tr>\n      <th>9</th>\n      <td>0.744094</td>\n      <td>0.749409</td>\n      <td>-5.315102e-03</td>\n    </tr>\n  </tbody>\n</table>\n</div>"
     },
     "execution_count": 122,
     "metadata": {},
     "output_type": "execute_result"
    }
   ],
   "source": [
    "# convert bond prices values to numpy array\n",
    "libor = np.array(list(bond_prices.values()))\n",
    "both = pd.DataFrame(np.vstack([libor, mc_discount_values_at_t0]).T, columns=[\"LIBOR\", \"MC\"])\n",
    "both[\"Difference\"] = both.LIBOR - both.MC\n",
    "both"
   ],
   "metadata": {
    "collapsed": false,
    "ExecuteTime": {
     "end_time": "2023-12-06T17:31:28.706331200Z",
     "start_time": "2023-12-06T17:31:28.686809600Z"
    }
   }
  },
  {
   "cell_type": "code",
   "execution_count": 123,
   "outputs": [
    {
     "name": "stdout",
     "output_type": "stream",
     "text": [
      "Initial vs MC Bond Prices:\n",
      "[[0.97087379 0.97043955]\n",
      " [0.94259591 0.97043454]\n",
      " [0.91514166 0.97043831]\n",
      " [0.88848705 0.9704408 ]\n",
      " [0.86260878 0.9704407 ]\n",
      " [0.83748426 0.97043418]\n",
      " [0.81309151 0.97043522]\n",
      " [0.78940923 0.97043989]\n",
      " [0.76641673 0.97043676]\n",
      " [0.74409391 0.97042399]]\n"
     ]
    }
   ],
   "source": [
    "# Parameters\n",
    "initial_forward_rate = 0.03  # 3%\n",
    "sigma = 0.01  # Volatility 1%\n",
    "num_maturities = 10  # Including T_0 to T_9\n",
    "num_paths = 10000\n",
    "total_time = 10  # Total time T_10\n",
    "time_step = 1  # Delta T\n",
    "num_steps = total_time // time_step  # Number of time steps\n",
    "\n",
    "# Initialize forward rates matrix\n",
    "forward_rates = np.full((num_paths, num_maturities, num_steps + 1), initial_forward_rate)\n",
    "\n",
    "# Calculate drift corrections\n",
    "# Note: This is a simplified approach; actual drift terms depend on your specific LMM setup\n",
    "drift_corrections = np.zeros((num_maturities, num_steps))\n",
    "\n",
    "\n",
    "# Monte Carlo simulation\n",
    "np.random.seed(0)\n",
    "for path in range(num_paths):\n",
    "    for step in range(num_steps):\n",
    "        dt = time_step\n",
    "        dW = np.random.normal(0, np.sqrt(dt), num_maturities)\n",
    "        drift = drift_corrections[:, step]\n",
    "        forward_rates[path, :, step + 1] = forward_rates[path, :, step] * np.exp(drift * dt + sigma * dW)\n",
    "\n",
    "# Calculate discount bond prices from forward rates\n",
    "# Note: This requires a specific method to convert forward rates to bond prices\n",
    "# Here we use a placeholder method\n",
    "def forward_rates_to_bond_prices(forward_rates):\n",
    "    # Placeholder for the actual conversion from forward rates to bond prices\n",
    "    return np.exp(-forward_rates)\n",
    "\n",
    "# Calculate bond prices\n",
    "bond_prices_mc = forward_rates_to_bond_prices(forward_rates.mean(axis=0))\n",
    "\n",
    "# Compare with initial term-structure (flat at 3%)\n",
    "initial_bond_prices = 1 / ((1 + initial_forward_rate) ** np.arange(1, num_maturities + 1))\n",
    "comparison = np.vstack([initial_bond_prices, bond_prices_mc.mean(axis=1)]).T\n",
    "\n",
    "print(\"Initial vs MC Bond Prices:\")\n",
    "print(comparison)\n"
   ],
   "metadata": {
    "collapsed": false,
    "ExecuteTime": {
     "end_time": "2023-12-06T17:31:29.352503700Z",
     "start_time": "2023-12-06T17:31:28.705328400Z"
    }
   },
   "id": "2a3ed4d65fd3e4b1"
  },
  {
   "cell_type": "markdown",
   "source": [
    "## Gaussian Swaption Formulas"
   ],
   "metadata": {
    "collapsed": false
   }
  },
  {
   "cell_type": "code",
   "execution_count": 124,
   "outputs": [
    {
     "data": {
      "text/plain": "       0.01      0.02      0.03      0.04      0.05\n1  0.008001  0.004911  0.002818  0.001505  0.000746\n2  0.028986  0.019472  0.012320  0.007305  0.004040\n3  0.051075  0.035266  0.022997  0.014087  0.008067\n4  0.072929  0.051026  0.033763  0.021012  0.012239\n5  0.094303  0.066494  0.044377  0.027878  0.016402\n6  0.115130  0.081593  0.054764  0.034616  0.020502\n7  0.135392  0.096299  0.064893  0.041199  0.024517\n8  0.155090  0.110605  0.074756  0.047616  0.028435\n9  0.174230  0.124512  0.084350  0.053863  0.032254",
      "text/html": "<div>\n<style scoped>\n    .dataframe tbody tr th:only-of-type {\n        vertical-align: middle;\n    }\n\n    .dataframe tbody tr th {\n        vertical-align: top;\n    }\n\n    .dataframe thead th {\n        text-align: right;\n    }\n</style>\n<table border=\"1\" class=\"dataframe\">\n  <thead>\n    <tr style=\"text-align: right;\">\n      <th></th>\n      <th>0.01</th>\n      <th>0.02</th>\n      <th>0.03</th>\n      <th>0.04</th>\n      <th>0.05</th>\n    </tr>\n  </thead>\n  <tbody>\n    <tr>\n      <th>1</th>\n      <td>0.008001</td>\n      <td>0.004911</td>\n      <td>0.002818</td>\n      <td>0.001505</td>\n      <td>0.000746</td>\n    </tr>\n    <tr>\n      <th>2</th>\n      <td>0.028986</td>\n      <td>0.019472</td>\n      <td>0.012320</td>\n      <td>0.007305</td>\n      <td>0.004040</td>\n    </tr>\n    <tr>\n      <th>3</th>\n      <td>0.051075</td>\n      <td>0.035266</td>\n      <td>0.022997</td>\n      <td>0.014087</td>\n      <td>0.008067</td>\n    </tr>\n    <tr>\n      <th>4</th>\n      <td>0.072929</td>\n      <td>0.051026</td>\n      <td>0.033763</td>\n      <td>0.021012</td>\n      <td>0.012239</td>\n    </tr>\n    <tr>\n      <th>5</th>\n      <td>0.094303</td>\n      <td>0.066494</td>\n      <td>0.044377</td>\n      <td>0.027878</td>\n      <td>0.016402</td>\n    </tr>\n    <tr>\n      <th>6</th>\n      <td>0.115130</td>\n      <td>0.081593</td>\n      <td>0.054764</td>\n      <td>0.034616</td>\n      <td>0.020502</td>\n    </tr>\n    <tr>\n      <th>7</th>\n      <td>0.135392</td>\n      <td>0.096299</td>\n      <td>0.064893</td>\n      <td>0.041199</td>\n      <td>0.024517</td>\n    </tr>\n    <tr>\n      <th>8</th>\n      <td>0.155090</td>\n      <td>0.110605</td>\n      <td>0.074756</td>\n      <td>0.047616</td>\n      <td>0.028435</td>\n    </tr>\n    <tr>\n      <th>9</th>\n      <td>0.174230</td>\n      <td>0.124512</td>\n      <td>0.084350</td>\n      <td>0.053863</td>\n      <td>0.032254</td>\n    </tr>\n  </tbody>\n</table>\n</div>"
     },
     "execution_count": 124,
     "metadata": {},
     "output_type": "execute_result"
    }
   ],
   "source": [
    "def gauss_payer_swaption(principal, strike, volatility, option_maturity, current_time, discount_factors):\n",
    "\n",
    "    sum_discount_factors = sum(discount_factors)\n",
    "    forward_rate = (discount_factors[0] - discount_factors[-1]) / sum_discount_factors\n",
    "    d = (forward_rate - strike) / (volatility * np.sqrt(option_maturity - current_time))\n",
    "    phi_d = np.exp(-0.5 * d**2) / np.sqrt(2 * np.pi)\n",
    "\n",
    "    swaption_price = principal * sum_discount_factors * ((forward_rate - strike) * norm.cdf(d) + volatility * np.sqrt(option_maturity - current_time) * phi_d)\n",
    "    return swaption_price\n",
    "\n",
    "# Parameters\n",
    "principal = 1\n",
    "volatility = 0.01  # gaussian\n",
    "option_maturity = 10\n",
    "current_time = 0\n",
    "maturities = np.arange(1, 10)  # maturieites from 1 to 9\n",
    "strike_rates = np.arange(0.01, 0.06, 0.01)  # strike rates from 1% to 5%\n",
    "annual_interest_rate = 0.03  # term strucuture 3%\n",
    "\n",
    "# \"discount facotrs\"\n",
    "#discount_factors = [np.exp(-annual_interest_rate * t) for t in range(1, option_maturity + 1)]\n",
    "discount_factors = [ 1 / ((1 + annual_interest_rate) ** T) for T in maturities]\n",
    "\n",
    "\n",
    "# swaption prices\n",
    "swaption_prices = np.array([\n",
    "    [gauss_payer_swaption(principal, strike, volatility, option_maturity, current_time, discount_factors[:maturity])\n",
    "     for strike in strike_rates] for maturity in maturities])\n",
    "\n",
    "\n",
    "# make dataframe out of swaption prices\n",
    "swaption_prices_df = pd.DataFrame(swaption_prices, index=maturities, columns=strike_rates)\n",
    "swaption_prices_df\n"
   ],
   "metadata": {
    "collapsed": false,
    "ExecuteTime": {
     "end_time": "2023-12-06T17:31:29.361075Z",
     "start_time": "2023-12-06T17:31:29.348502700Z"
    }
   }
  },
  {
   "cell_type": "code",
   "execution_count": 124,
   "outputs": [],
   "source": [],
   "metadata": {
    "collapsed": false,
    "ExecuteTime": {
     "end_time": "2023-12-06T17:31:29.390586300Z",
     "start_time": "2023-12-06T17:31:29.362075400Z"
    }
   }
  }
 ],
 "metadata": {
  "kernelspec": {
   "display_name": "Python 3",
   "language": "python",
   "name": "python3"
  },
  "language_info": {
   "codemirror_mode": {
    "name": "ipython",
    "version": 2
   },
   "file_extension": ".py",
   "mimetype": "text/x-python",
   "name": "python",
   "nbconvert_exporter": "python",
   "pygments_lexer": "ipython2",
   "version": "2.7.6"
  }
 },
 "nbformat": 4,
 "nbformat_minor": 5
}
