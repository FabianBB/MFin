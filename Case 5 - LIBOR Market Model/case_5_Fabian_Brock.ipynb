{
 "cells": [
  {
   "cell_type": "code",
   "execution_count": 11,
   "id": "initial_id",
   "metadata": {
    "collapsed": true,
    "ExecuteTime": {
     "end_time": "2023-12-05T15:38:00.484668100Z",
     "start_time": "2023-12-05T15:38:00.451314900Z"
    }
   },
   "outputs": [],
   "source": [
    "import numpy as np"
   ]
  },
  {
   "cell_type": "code",
   "execution_count": 12,
   "outputs": [
    {
     "data": {
      "text/plain": "{1: 0.970873786407767,\n 2: 0.9425959091337544,\n 3: 0.9151416593531596,\n 4: 0.8884870479156888,\n 5: 0.8626087843841639,\n 6: 0.8374842566836542,\n 7: 0.8130915113433536,\n 8: 0.7894092343139355,\n 9: 0.7664167323436267}"
     },
     "execution_count": 12,
     "metadata": {},
     "output_type": "execute_result"
    }
   ],
   "source": [
    "annual_interest_rate = 0.03  # 3% interest rate\n",
    "maturities = range(1, 10)  # Maturities from 1 to 9 years\n",
    "\n",
    "# Computing the bond prices using the formula P(0, T) = 1 / (1 + r)^T\n",
    "bond_prices = {T: 1 / ((1 + annual_interest_rate) ** T) for T in maturities}\n",
    "bond_prices"
   ],
   "metadata": {
    "collapsed": false,
    "ExecuteTime": {
     "end_time": "2023-12-05T15:38:00.484668100Z",
     "start_time": "2023-12-05T15:38:00.457134Z"
    }
   },
   "id": "60e1c8f00165f1c7"
  },
  {
   "cell_type": "code",
   "execution_count": 13,
   "outputs": [
    {
     "data": {
      "text/plain": "array([[0.03      , 0.02986817, 0.0297884 , 0.02946869, 0.02945377,\n        0.0294409 , 0.02953262, 0.02920268, 0.02943109, 0.02954459,\n        0.02975883],\n       [0.03      , 0.03012522, 0.0301151 , 0.03004778, 0.03001178,\n        0.03004207, 0.03021245, 0.03032931, 0.03046166, 0.03033766,\n        0.03039684],\n       [0.03      , 0.03027252, 0.03006304, 0.02999198, 0.02999115,\n        0.02996904, 0.02993888, 0.02997174, 0.029857  , 0.02992988,\n        0.02996582],\n       [0.03      , 0.02976336, 0.0298444 , 0.02984719, 0.0299841 ,\n        0.03002855, 0.03007191, 0.02995904, 0.02981383, 0.02962971,\n        0.02958304],\n       [0.03      , 0.03025253, 0.03031811, 0.03037979, 0.03042168,\n        0.03042989, 0.03042281, 0.03051057, 0.03065398, 0.0307732 ,\n        0.03095046],\n       [0.03      , 0.03011712, 0.03009441, 0.03002413, 0.0299437 ,\n        0.03001127, 0.03005097, 0.0300236 , 0.02991907, 0.02976156,\n        0.02975942],\n       [0.03      , 0.02993203, 0.02980447, 0.02973093, 0.02982535,\n        0.0298529 , 0.02987686, 0.029864  , 0.02988384, 0.02992314,\n        0.03006204],\n       [0.03      , 0.02988503, 0.02994619, 0.03006811, 0.03023026,\n        0.03024972, 0.03025157, 0.03020195, 0.0300819 , 0.03008244,\n        0.03023427],\n       [0.03      , 0.03001899, 0.03017845, 0.03014272, 0.03015339,\n        0.03018981, 0.03012856, 0.0301634 , 0.03031547, 0.03037274,\n        0.03035663]])"
     },
     "execution_count": 13,
     "metadata": {},
     "output_type": "execute_result"
    }
   ],
   "source": [
    "import numpy as np\n",
    "\n",
    "# Model parameters\n",
    "initial_forward_rate = 0.03  # Initial forward rate\n",
    "sigma = 0.01  # Constant volatility\n",
    "num_maturities = 9  # Number of forward rates (f0 to f9)\n",
    "num_paths = 10000  # Number of simulation paths\n",
    "time_step = 0.1  # Time step in years\n",
    "total_time = 10  # Total simulation time in years\n",
    "\n",
    "# Time points for simulation\n",
    "num_steps = int(total_time / time_step)\n",
    "time_points = np.linspace(0, total_time, num_steps + 1)\n",
    "\n",
    "# Initializing matrix to store simulated forward rates for each path\n",
    "forward_rates = np.zeros((num_paths, num_maturities, num_steps + 1))\n",
    "forward_rates[:, :, 0] = initial_forward_rate\n",
    "\n",
    "# Monte Carlo simulation\n",
    "np.random.seed(0)  # For reproducibility\n",
    "for path in range(num_paths):\n",
    "    for step in range(num_steps):\n",
    "        dt = time_points[step + 1] - time_points[step]\n",
    "        dW = np.random.normal(0, np.sqrt(dt), num_maturities)  # Brownian motion increment\n",
    "        forward_rates[path, :, step + 1] = forward_rates[path, :, step] + sigma * dW\n",
    "\n",
    "# Averaging the forward rates across all paths\n",
    "average_forward_rates = forward_rates.mean(axis=0)\n",
    "\n",
    "# Displaying the average forward rates at the end of each year\n",
    "average_forward_rates_at_year_end = average_forward_rates[:, ::int(1/time_step)]\n",
    "average_forward_rates_at_year_end\n",
    "\n"
   ],
   "metadata": {
    "collapsed": false,
    "ExecuteTime": {
     "end_time": "2023-12-05T15:38:06.167918600Z",
     "start_time": "2023-12-05T15:38:00.467745200Z"
    }
   },
   "id": "96917e6667620df"
  },
  {
   "cell_type": "code",
   "execution_count": 14,
   "outputs": [
    {
     "data": {
      "text/plain": "array([0.03      , 0.03002611, 0.03001695, 0.02996682, 0.03000169,\n       0.03002379, 0.03005407, 0.03002514, 0.03004643, 0.03003944,\n       0.03011859])"
     },
     "execution_count": 14,
     "metadata": {},
     "output_type": "execute_result"
    }
   ],
   "source": [
    "# take average per column\n",
    "average_forward_rates = average_forward_rates_at_year_end.mean(axis=0)\n",
    "average_forward_rates"
   ],
   "metadata": {
    "collapsed": false,
    "ExecuteTime": {
     "end_time": "2023-12-05T15:38:06.167918600Z",
     "start_time": "2023-12-05T15:38:06.162163600Z"
    }
   },
   "id": "f2e283b75c3162fa"
  },
  {
   "cell_type": "code",
   "execution_count": 15,
   "outputs": [
    {
     "data": {
      "text/plain": "array([0.99700897, 0.99403134, 0.99104638, 0.988081  , 0.98512531,\n       0.98216898, 0.97924711, 0.97632252, 0.97339843])"
     },
     "execution_count": 15,
     "metadata": {},
     "output_type": "execute_result"
    }
   ],
   "source": [
    "# Calculating the Monte Carlo values for discount bonds\n",
    "\n",
    "# Initialize an array to store the Monte Carlo values of the bonds\n",
    "mc_bond_values = np.zeros((num_maturities, num_steps + 1))\n",
    "\n",
    "# Correcting the calculation for the Monte Carlo values of discount bonds\n",
    "\n",
    "# Calculate the present value of each bond for each path and then average\n",
    "for i in range(num_maturities):\n",
    "    for path in range(num_paths):\n",
    "        # Calculate the discount factor for each path at maturity T_i\n",
    "        discount_factor = np.prod(1 + time_step * forward_rates[path, :i+1, i])\n",
    "        mc_bond_values[i] += discount_factor\n",
    "\n",
    "    # Average the discount factors over all paths\n",
    "    mc_bond_values[i] /= num_paths\n",
    "\n",
    "# Monte Carlo values of the bonds at t=0\n",
    "mc_values_at_t0 = 1 / mc_bond_values[:, 0]\n",
    "mc_values_at_t0\n",
    "\n",
    "\n",
    "\n"
   ],
   "metadata": {
    "collapsed": false,
    "ExecuteTime": {
     "end_time": "2023-12-05T15:38:06.931943700Z",
     "start_time": "2023-12-05T15:38:06.170911100Z"
    }
   },
   "id": "a567cf5503672ade"
  },
  {
   "cell_type": "code",
   "execution_count": 16,
   "outputs": [
    {
     "data": {
      "text/plain": "array([0.97087379, 0.94283202, 0.91563443, 0.88968214, 0.86440704,\n       0.83971669, 0.81588532, 0.79332587, 0.77152657, 0.74940902])"
     },
     "execution_count": 16,
     "metadata": {},
     "output_type": "execute_result"
    }
   ],
   "source": [
    "# Adjusted parameters for the Monte Carlo simulation using D_10(t) as the numeraire\n",
    "num_maturities = 10  # Number of forward rates (f0 to f9, inclusive)\n",
    "num_steps = num_maturities  # Total simulation time in years\n",
    "time_step = 1  # Time step in years, Δ = 1\n",
    "sigma = 0.01  # Constant volatility 1%\n",
    "\n",
    "# Initializing matrix to store simulated forward rates for each path\n",
    "forward_rates_mc = np.zeros((num_paths, num_maturities, num_steps + 1))\n",
    "forward_rates_mc[:, :, 0] = initial_forward_rate\n",
    "\n",
    "# Monte Carlo simulation under Q_10 measure\n",
    "np.random.seed(0)  # For reproducibility\n",
    "for path in range(num_paths):\n",
    "    for step in range(num_steps):\n",
    "        dW = np.random.normal(0, np.sqrt(time_step), num_maturities)  # Brownian motion increment\n",
    "        forward_rates_mc[path, :, step + 1] = forward_rates_mc[path, :, step] + sigma * dW\n",
    "\n",
    "# Calculating the Monte Carlo values for discount bonds under Q_10\n",
    "mc_discount_bond_values = np.zeros((num_maturities, num_steps + 1))\n",
    "\n",
    "# Calculating the present value of each bond for each path and then averaging\n",
    "for i in range(num_maturities):\n",
    "    for path in range(num_paths):\n",
    "        # Calculate the discount factor for each path at maturity T_i\n",
    "        discount_factor = np.prod(1 / (1 + time_step * forward_rates_mc[path, :i+1, i]))\n",
    "        mc_discount_bond_values[i] += discount_factor\n",
    "\n",
    "    # Average the discount factors over all paths\n",
    "    mc_discount_bond_values[i] /= num_paths\n",
    "\n",
    "# Extracting the Monte Carlo values of the bonds at t=0\n",
    "mc_discount_values_at_t0 = mc_discount_bond_values[:, 0]\n",
    "mc_discount_values_at_t0\n",
    "\n"
   ],
   "metadata": {
    "collapsed": false,
    "ExecuteTime": {
     "end_time": "2023-12-05T15:50:08.387306400Z",
     "start_time": "2023-12-05T15:50:06.546904300Z"
    }
   },
   "id": "4c7a8d8c0bbb3b90"
  },
  {
   "cell_type": "code",
   "execution_count": null,
   "outputs": [],
   "source": [],
   "metadata": {
    "collapsed": false
   },
   "id": "2a3ed4d65fd3e4b1"
  }
 ],
 "metadata": {
  "kernelspec": {
   "display_name": "Python 3",
   "language": "python",
   "name": "python3"
  },
  "language_info": {
   "codemirror_mode": {
    "name": "ipython",
    "version": 2
   },
   "file_extension": ".py",
   "mimetype": "text/x-python",
   "name": "python",
   "nbconvert_exporter": "python",
   "pygments_lexer": "ipython2",
   "version": "2.7.6"
  }
 },
 "nbformat": 4,
 "nbformat_minor": 5
}
